{
 "cells": [
  {
   "cell_type": "markdown",
   "id": "907f2642",
   "metadata": {},
   "source": [
    "## Numpy Array Operations"
   ]
  },
  {
   "cell_type": "markdown",
   "id": "d7516982",
   "metadata": {},
   "source": [
    "**Slicing**"
   ]
  },
  {
   "cell_type": "code",
   "execution_count": null,
   "id": "3394dc15",
   "metadata": {},
   "outputs": [],
   "source": [
    "import numpy as np"
   ]
  },
  {
   "cell_type": "code",
   "execution_count": null,
   "id": "2c2882fc",
   "metadata": {},
   "outputs": [],
   "source": [
    "arr = np.array([1,2,3,4,5,6,7,8,9])\n",
    "print(f\"Basic slicing {arr[2:7]}\")\n",
    "print(f\"with step slicing {arr[0:9:2]}\")\n",
    "\n",
    "# understood start from 0 to end\n",
    "print(f\"with step slicing {arr[::2]}\")\n",
    "\n",
    "# arr = np.arange(1,10)\n",
    "# print(arr)\n",
    "# print(f\"Basic slicing {arr[2:7]}\")"
   ]
  },
  {
   "cell_type": "markdown",
   "id": "92d2dc9d",
   "metadata": {},
   "source": [
    "**Negative indexing**"
   ]
  },
  {
   "cell_type": "code",
   "execution_count": null,
   "id": "05b08265",
   "metadata": {},
   "outputs": [],
   "source": [
    "arr = np.array([1,2,3,4,5,6,7,8,9])\n",
    "print(f\"Basic slicing {arr[-5:-1]}\")\n",
    "print(f\"with step slicing {arr[-9:-1:2]}\")"
   ]
  },
  {
   "cell_type": "markdown",
   "id": "63880ee1",
   "metadata": {},
   "source": [
    "**2d_Array Indexing**"
   ]
  },
  {
   "cell_type": "code",
   "execution_count": null,
   "id": "8341fe4c",
   "metadata": {},
   "outputs": [],
   "source": [
    "arr_2d = np.array([[1,2,3],\n",
    "                   [4,5,6],\n",
    "                   [7,8,9]])\n",
    "print(f\"2D Array\\n{arr_2d}\")\n",
    "print(f\"Specfic row {arr_2d[1:2]}\") #specific row \n",
    "print(f\"Specfic row {arr_2d[1]}\") #specific row \n",
    "print(f\"Specfic coloum {arr_2d[:,1]}\") #specific coloum\n",
    "print(f\"Specfic element {arr_2d[1,2]}\") #specific element\n",
    "print(f\"Specfic element {arr_2d[0,2]}\")"
   ]
  },
  {
   "cell_type": "markdown",
   "id": "348252c9",
   "metadata": {},
   "source": [
    "**Sorting**"
   ]
  },
  {
   "cell_type": "code",
   "execution_count": null,
   "id": "4aa077ef",
   "metadata": {},
   "outputs": [],
   "source": [
    "unsorted = np.array([1,3,4,6,8,3,2,5,8,6,0])\n",
    "print(f\"sorted array {np.sort(unsorted)}\")\n",
    "\n",
    "unsorted_2d_array = np.array([[1,9,3,4],\n",
    "                              [5,7,8,34],\n",
    "                              [3,5,7,8]])\n",
    "\n",
    "print(f\"2D sorted array by coloum\\n{np.sort(unsorted_2d_array,axis=0)}\")\n",
    "print(f\"2D sorted array by row\\n{np.sort(unsorted_2d_array,axis=1)}\")\n"
   ]
  },
  {
   "cell_type": "markdown",
   "id": "70d7c99e",
   "metadata": {},
   "source": [
    "**Filtering**"
   ]
  },
  {
   "cell_type": "code",
   "execution_count": null,
   "id": "5d15e655",
   "metadata": {},
   "outputs": [],
   "source": [
    "numbers = np.array([1,2,3,4,5,6,7,8,9,10])\n",
    "# even_numbers = numbers[1::2]\n",
    "# print(f\"FIltered numbers\\n{even_numbers}\")\n",
    "even_numbers = numbers[numbers % 2 == 0]\n",
    "print(f\"FIltered numbers\\n{even_numbers}\")"
   ]
  },
  {
   "cell_type": "markdown",
   "id": "9dd94e45",
   "metadata": {},
   "source": [
    "**Filter with mask**"
   ]
  },
  {
   "cell_type": "code",
   "execution_count": null,
   "id": "6a93347f",
   "metadata": {},
   "outputs": [],
   "source": [
    "numbers = np.array([1,2,3,4,5,6,7,8,9,10])\n",
    "mask = numbers > 5\n",
    "print(f\"numbers greater than 5\\n{numbers[mask]}\")"
   ]
  },
  {
   "cell_type": "markdown",
   "id": "d5e37120",
   "metadata": {},
   "source": [
    "**Fancy Indexing vs np.where()**"
   ]
  },
  {
   "cell_type": "code",
   "execution_count": null,
   "id": "a606bfe6",
   "metadata": {},
   "outputs": [],
   "source": [
    "numbers = np.array([1,2,3,4,5,6,7,8,9,10])\n",
    "indexes = [0,2,4]\n",
    "print(numbers[indexes])\n",
    "\n",
    "where_result = np.where(numbers > 5)   # stores indexes\n",
    "print(where_result)\n",
    "print(f\"NP where {numbers[where_result]}\")\n",
    "\n",
    "# it returns the elements of the array"
   ]
  },
  {
   "cell_type": "code",
   "execution_count": null,
   "id": "3e33544a",
   "metadata": {},
   "outputs": [],
   "source": [
    "mul_cond = np.where(numbers > 5, numbers*4, numbers)    # stores indexes\n",
    "print(mul_cond)\n",
    "\n",
    "# it return value passed after cond on the base of cond result"
   ]
  },
  {
   "cell_type": "code",
   "execution_count": null,
   "id": "28157658",
   "metadata": {},
   "outputs": [],
   "source": [
    "mul_cond = np.where(numbers > 5, \"true\", \"false\")    # stores indexes\n",
    "print(mul_cond)"
   ]
  },
  {
   "cell_type": "code",
   "execution_count": null,
   "id": "2cf1ecc0",
   "metadata": {},
   "outputs": [],
   "source": [
    "# The above given code work like \n",
    "\n",
    "'''\n",
    "\n",
    "if (numbers > 5):\n",
    "\n",
    "    numbers*4\n",
    "\n",
    "else:\n",
    "    numbers\n",
    "\n",
    "'''"
   ]
  },
  {
   "cell_type": "markdown",
   "id": "0979b390",
   "metadata": {},
   "source": [
    "**Adding and Removing Data**"
   ]
  },
  {
   "cell_type": "code",
   "execution_count": null,
   "id": "bb9bd330",
   "metadata": {},
   "outputs": [],
   "source": [
    "arr1 = np.array([1,2,3])\n",
    "arr2 = np.array([4,5,6])\n",
    "\n",
    "combined = arr1 + arr2\n",
    "print(combined)\n",
    "\n",
    "# here we can't use + to combined 2 arrays bcz it will add both"
   ]
  },
  {
   "cell_type": "code",
   "execution_count": null,
   "id": "f1538c85",
   "metadata": {},
   "outputs": [],
   "source": [
    "combined = np.concatenate([arr1,arr2])\n",
    "print(combined)\n",
    "\n",
    "# correct method to combine"
   ]
  },
  {
   "cell_type": "markdown",
   "id": "4a0691eb",
   "metadata": {},
   "source": [
    "**Array Compatibility**"
   ]
  },
  {
   "cell_type": "code",
   "execution_count": null,
   "id": "109b72e1",
   "metadata": {},
   "outputs": [],
   "source": [
    "a = np.array([1,2,3])\n",
    "b = np.array([4,5,6,4])\n",
    "c = np.array([7,8,9])\n",
    "\n",
    "print(f\"compatibility of shapes {a.shape == b.shape}\")\n",
    "print(f\"compatibility of shapes {a.shape == c.shape}\")\n",
    "print(f\"compatibility of shapes {b.shape == c.shape}\")"
   ]
  },
  {
   "cell_type": "markdown",
   "id": "5bf03ec9",
   "metadata": {},
   "source": [
    "**Add new row**"
   ]
  },
  {
   "cell_type": "code",
   "execution_count": null,
   "id": "ce9f2c7e",
   "metadata": {},
   "outputs": [],
   "source": [
    "original = np.array([[1,2],\n",
    "                     [3,4]])\n",
    "new_row = np.array([5,6])\n",
    "\n",
    "with_new_row = np.vstack((original,new_row))\n",
    "print(original)\n",
    "print(with_new_row)\n"
   ]
  },
  {
   "cell_type": "markdown",
   "id": "60f2ebb7",
   "metadata": {},
   "source": [
    "**Add new Coloum**"
   ]
  },
  {
   "cell_type": "code",
   "execution_count": null,
   "id": "20bca818",
   "metadata": {},
   "outputs": [],
   "source": [
    "original = np.array([[1,2],\n",
    "                     [3,4]])\n",
    "new_col = np.array([[5],[6]])\n",
    "\n",
    "with_new_col = np.hstack((original,new_col))\n",
    "print(original)\n",
    "print(with_new_col)"
   ]
  },
  {
   "cell_type": "markdown",
   "id": "b7d18960",
   "metadata": {},
   "source": [
    "**Delete Elements**"
   ]
  },
  {
   "cell_type": "code",
   "execution_count": null,
   "id": "55da3017",
   "metadata": {},
   "outputs": [],
   "source": [
    "arr = np.array([1,2,3,4,5,6])\n",
    "deleted = np.delete(arr,2)  # delete with given indexes\n",
    "print(deleted)\n",
    "\n",
    "\n",
    "arr = np.array([1, 2, 3, 4, 5])\n",
    "# Delete elements at indices [0, 2]\n",
    "new_arr = np.delete(arr, [0, 2])\n",
    "print(new_arr)"
   ]
  },
  {
   "cell_type": "markdown",
   "id": "a0b34cd9",
   "metadata": {},
   "source": [
    "**Delete Rows from a 2D Array**"
   ]
  },
  {
   "cell_type": "code",
   "execution_count": null,
   "id": "26d6e066",
   "metadata": {},
   "outputs": [],
   "source": [
    "arr_2d = np.array([[1, 2, 3],\n",
    "                   [4, 5, 6],\n",
    "                   [7, 8, 9]])\n",
    "# Delete row at index 1 (second row)\n",
    "new_arr = np.delete(arr_2d, 1, axis=0)\n",
    "print(new_arr)"
   ]
  },
  {
   "cell_type": "markdown",
   "id": "5f4db681",
   "metadata": {},
   "source": [
    "**Delete Columns from a 2D Array**"
   ]
  },
  {
   "cell_type": "code",
   "execution_count": null,
   "id": "fd1399f3",
   "metadata": {},
   "outputs": [],
   "source": [
    "# Delete column at index 1 (second column)\n",
    "new_arr = np.delete(arr_2d, 1, axis=1)\n",
    "print(new_arr)"
   ]
  },
  {
   "cell_type": "markdown",
   "id": "514c41a5",
   "metadata": {},
   "source": [
    "**Delete Multiple Rows/Columns**"
   ]
  },
  {
   "cell_type": "code",
   "execution_count": null,
   "id": "f328c311",
   "metadata": {},
   "outputs": [],
   "source": [
    "# Delete rows at indices [0, 2]\n",
    "new_arr = np.delete(arr_2d, [0, 2], axis=0)\n",
    "print(new_arr)\n",
    "\n",
    "# Delete columns at indices [0, 2]\n",
    "new_arr = np.delete(arr_2d, [0, 2], axis=1)\n",
    "print(new_arr)"
   ]
  },
  {
   "cell_type": "markdown",
   "id": "58ba7f5a",
   "metadata": {},
   "source": [
    "**Delete Without Specifying Axis (Flattens First)**"
   ]
  },
  {
   "cell_type": "code",
   "execution_count": null,
   "id": "1b05eba1",
   "metadata": {},
   "outputs": [],
   "source": [
    "arr_2d = np.array([[1, 2, 3],\n",
    "                   [4, 5, 6],\n",
    "                   [7, 8, 9]])\n",
    "\n",
    "# Flattens the array and deletes elements at indices [0, 2, 4]\n",
    "new_arr = np.delete(arr_2d, [0, 2, 4])\n",
    "print(new_arr)"
   ]
  },
  {
   "cell_type": "markdown",
   "id": "c13a4b82",
   "metadata": {},
   "source": [
    "**Key Notes**"
   ]
  },
  {
   "cell_type": "markdown",
   "id": "9b8b1caa",
   "metadata": {},
   "source": [
    "\n",
    "np.delete() does not modify the original array; it returns a new array.\n",
    "\n",
    "For permanent deletion, assign back:\n",
    "\n",
    "arr = np.delete(arr, 1, axis=0)"
   ]
  }
 ],
 "metadata": {
  "kernelspec": {
   "display_name": "venv",
   "language": "python",
   "name": "python3"
  },
  "language_info": {
   "codemirror_mode": {
    "name": "ipython",
    "version": 3
   },
   "file_extension": ".py",
   "mimetype": "text/x-python",
   "name": "python",
   "nbconvert_exporter": "python",
   "pygments_lexer": "ipython3",
   "version": "3.13.5"
  }
 },
 "nbformat": 4,
 "nbformat_minor": 5
}
