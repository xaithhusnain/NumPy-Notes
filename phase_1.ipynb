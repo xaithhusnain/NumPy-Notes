{
 "cells": [
  {
   "cell_type": "code",
   "execution_count": null,
   "id": "075a4910",
   "metadata": {},
   "outputs": [],
   "source": [
    "import numpy as np"
   ]
  },
  {
   "cell_type": "code",
   "execution_count": null,
   "id": "0d8cfe80",
   "metadata": {},
   "outputs": [],
   "source": [
    "# Create a 2D array (matrix)\n",
    "matrix = np.array([[1, 2, 3],\n",
    "                   [4, 5, 6]])\n",
    "\n",
    "print(\"Matrix:\\n\", matrix)\n",
    "print(\"Transpose:\\n\", matrix.T)\n",
    "print(\"Row sums:\", matrix.sum(axis=1))\n",
    "print(\"Column sums:\", matrix.sum(axis=0))"
   ]
  },
  {
   "cell_type": "markdown",
   "id": "e2827f14",
   "metadata": {},
   "source": [
    "**creating an array**"
   ]
  },
  {
   "cell_type": "code",
   "execution_count": null,
   "id": "a93c4886",
   "metadata": {},
   "outputs": [],
   "source": [
    "import numpy as np\n",
    "arr_1d = np.array([1,2,3,4,5])\n",
    "print(\"1d array =\",arr_1d)\n",
    "\n",
    "arr_2d = np.array([[1,2,3],[4,5,6]])\n",
    "print(\"2d array =\",arr_2d)"
   ]
  },
  {
   "cell_type": "markdown",
   "id": "b2433e06",
   "metadata": {},
   "source": [
    "**list vs array**"
   ]
  },
  {
   "cell_type": "code",
   "execution_count": null,
   "id": "14494bed",
   "metadata": {},
   "outputs": [],
   "source": [
    "py_list = [1,2,3]\n",
    "print(py_list)\n",
    "print(f\"list multiplication = {py_list*2}\")\n",
    "\n",
    "np_arr = np.array([1,2,3]) #element wise multiplication\n",
    "print(np_arr)\n",
    "print(f\"list multiplication = {np_arr*2}\")"
   ]
  },
  {
   "cell_type": "markdown",
   "id": "60a61bf1",
   "metadata": {},
   "source": [
    "**list time vs array time**"
   ]
  },
  {
   "cell_type": "code",
   "execution_count": null,
   "id": "edf54b2b",
   "metadata": {},
   "outputs": [],
   "source": [
    "import time\n",
    "\n",
    "start = time.time()\n",
    "l1 = [i*2 for i in range(1000000)]   #list comprehension\n",
    "print(f\"list operation time {time.time()-start}\")\n",
    "\n",
    "start = time.time()\n",
    "arr = np.arange(100000)*2\n",
    "print(f\"array operation time {time.time()-start}\")"
   ]
  },
  {
   "cell_type": "markdown",
   "id": "0f1738fe",
   "metadata": {},
   "source": [
    "**creating array from scratch**"
   ]
  },
  {
   "cell_type": "code",
   "execution_count": null,
   "id": "946ff01f",
   "metadata": {},
   "outputs": [],
   "source": [
    "zero = np.zeros((3,4))\n",
    "print(f\"zero array\\n{zero}\")\n",
    "\n",
    "zero = np.zeros([3,4])\n",
    "print(f\"zero array\\n{zero}\")"
   ]
  },
  {
   "cell_type": "code",
   "execution_count": null,
   "id": "841fa553",
   "metadata": {},
   "outputs": [],
   "source": [
    "one = np.ones([3,4])\n",
    "print(f\"one array\\n{one}\")"
   ]
  },
  {
   "cell_type": "code",
   "execution_count": null,
   "id": "7b14ab1e",
   "metadata": {},
   "outputs": [],
   "source": [
    "full = np.full([3,4],6)\n",
    "print(f\"full or constant array\\n{full}\")"
   ]
  },
  {
   "cell_type": "code",
   "execution_count": null,
   "id": "4b66c8af",
   "metadata": {},
   "outputs": [],
   "source": [
    "random = np.random.random([3,4])\n",
    "print(f\"random array\\n{random}\")"
   ]
  },
  {
   "cell_type": "code",
   "execution_count": null,
   "id": "58208ada",
   "metadata": {},
   "outputs": [],
   "source": [
    "sequence = np.arange(0,10)\n",
    "print(f\"sequence array\\n{sequence}\")"
   ]
  },
  {
   "cell_type": "markdown",
   "id": "931522fd",
   "metadata": {},
   "source": [
    "**Vector Matric Tensor**"
   ]
  },
  {
   "cell_type": "code",
   "execution_count": null,
   "id": "f01fb872",
   "metadata": {},
   "outputs": [],
   "source": [
    "vector = np.array([1,2,3])\n",
    "print(f\"vector\\n{vector}\")\n",
    "\n",
    "matrix = np.array([[1,2,3],\n",
    "                   [4,5,6]])\n",
    "print(f\"matrix\\n{matrix}\")\n",
    "\n",
    "tensor = np.array([[[1,2],[3,4]],\n",
    "                   [[5,6],[7,8]]])\n",
    "print(f\"tensor\\n{tensor}\")"
   ]
  },
  {
   "cell_type": "markdown",
   "id": "fd3b7353",
   "metadata": {},
   "source": [
    "### Array Properties"
   ]
  },
  {
   "cell_type": "code",
   "execution_count": null,
   "id": "091c8bf1",
   "metadata": {},
   "outputs": [],
   "source": [
    "arr = np.array([[1,2,3],\n",
    "                [4,5,6]])\n",
    "\n",
    "print(f\"shape {arr.shape}\")\n",
    "print(f\"dimension {arr.ndim}\")\n",
    "print(f\"size {arr.size}\")\n",
    "print(f\"datatype {arr.dtype}\")"
   ]
  },
  {
   "cell_type": "code",
   "execution_count": null,
   "id": "bd5fae30",
   "metadata": {},
   "outputs": [],
   "source": [
    "arr = np.array([[1,2,3],     # we can also do that but its not a good practice bcz is always refer to\n",
    "                [4,5,True]]) # use same data in matrix bcz numpy is very efficient with similar data\n",
    "                \n",
    "print(f\"dimension {arr.ndim}\")\n",
    "print(f\"datatype {arr.dtype}\")"
   ]
  },
  {
   "cell_type": "code",
   "execution_count": null,
   "id": "0627c3d7",
   "metadata": {},
   "outputs": [],
   "source": [
    "arr = np.array([[1,2,3],\n",
    "                [4,5,6.8]]) #as we change here even single value it change to float\n",
    "                \n",
    "print(f\"shape {arr.shape}\")\n",
    "print(f\"size {arr.size}\")"
   ]
  },
  {
   "cell_type": "code",
   "execution_count": null,
   "id": "6286749b",
   "metadata": {},
   "outputs": [],
   "source": [
    "arr = np.array([[1,2,3],\n",
    "                [4,5,\"6.8\"]])  # changes to string\n",
    "                \n",
    "print(f\"itemsize {arr.itemsize}\")  #each element takes bytes in memory.\n",
    "print(f\"total size {arr.nbytes}\")  #Gives total memory used by the array.\n",
    "print(f\"transpose {arr.T}\") # Transpose"
   ]
  },
  {
   "cell_type": "markdown",
   "id": "376a222d",
   "metadata": {},
   "source": [
    "**Array Reshaping**"
   ]
  },
  {
   "cell_type": "code",
   "execution_count": null,
   "id": "d65c49ba",
   "metadata": {},
   "outputs": [],
   "source": [
    "arr = np.arange(12)\n",
    "print(f\"original array {arr}\")\n",
    "\n",
    "reshaped = arr.reshape([3,4])   # changes to a matrix 3 by 4\n",
    "print(f\"\\nreshaped array\\n{reshaped}\")\n",
    "\n",
    "# return copy \n",
    "flatened = reshaped.flatten()   # again comes to original form or do any matrix flat\n",
    "print(f\"\\nflatened array {flatened}\")\n",
    "\n",
    "# ravel return view, instead of copy \n",
    "raveled = reshaped.ravel()\n",
    "print(f\"\\nraveled array {raveled}\")\n",
    "\n",
    "transpose = reshaped.T\n",
    "print(f\"\\nTransposed array\\n{transpose}\") \n"
   ]
  }
 ],
 "metadata": {
  "kernelspec": {
   "display_name": "venv",
   "language": "python",
   "name": "python3"
  },
  "language_info": {
   "codemirror_mode": {
    "name": "ipython",
    "version": 3
   },
   "file_extension": ".py",
   "mimetype": "text/x-python",
   "name": "python",
   "nbconvert_exporter": "python",
   "pygments_lexer": "ipython3",
   "version": "3.13.5"
  }
 },
 "nbformat": 4,
 "nbformat_minor": 5
}
