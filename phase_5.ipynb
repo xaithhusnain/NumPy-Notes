{
 "cells": [
  {
   "cell_type": "markdown",
   "id": "bbe9aeaa",
   "metadata": {},
   "source": [
    "# Storing image in Matrix"
   ]
  },
  {
   "cell_type": "code",
   "execution_count": null,
   "id": "f69da76d",
   "metadata": {},
   "outputs": [],
   "source": [
    "import numpy as np\n",
    "import matplotlib.pyplot as plt\n",
    "import matplotlib.image as mpimg"
   ]
  },
  {
   "cell_type": "markdown",
   "id": "e81fff07",
   "metadata": {},
   "source": [
    "**Creating Arrays**"
   ]
  },
  {
   "cell_type": "code",
   "execution_count": null,
   "id": "bad5b29e",
   "metadata": {},
   "outputs": [],
   "source": [
    "array1 = np.array([[1,2,3],[4,5,6]])\n",
    "array2 = np.random.random([3,3])\n",
    "array3 = np.zeros([4,4])"
   ]
  },
  {
   "cell_type": "markdown",
   "id": "b25f5570",
   "metadata": {},
   "source": [
    "**Saving Arrays**"
   ]
  },
  {
   "cell_type": "code",
   "execution_count": null,
   "id": "3dbf9076",
   "metadata": {},
   "outputs": [],
   "source": [
    "np.save('array1.npy',array1)\n",
    "np.save('array2.npy',array2)\n",
    "np.save('array3.npy',array3)"
   ]
  },
  {
   "cell_type": "markdown",
   "id": "313f8632",
   "metadata": {},
   "source": [
    "**Loadind Array**"
   ]
  },
  {
   "cell_type": "code",
   "execution_count": null,
   "id": "6441618f",
   "metadata": {},
   "outputs": [],
   "source": [
    "load_array1 = np.load('array1.npy')\n",
    "print(load_array1)\n",
    "\n",
    "load_array2 = np.load('array2.npy')\n",
    "print(load_array2)\n",
    "\n",
    "load_array3 = np.load('array3.npy')\n",
    "print(load_array3)"
   ]
  },
  {
   "cell_type": "markdown",
   "id": "d8f6ba98",
   "metadata": {},
   "source": [
    "**Printing the Numpy Logo**\n",
    "\n",
    "note: I have already import it."
   ]
  },
  {
   "cell_type": "code",
   "execution_count": null,
   "id": "bbee1c8e",
   "metadata": {},
   "outputs": [],
   "source": [
    "try:\n",
    "    \n",
    "    logo = mpimg.imread(\"numpy-logo.npy\")\n",
    "\n",
    "    # Display\n",
    "    plt.figure(figsize=(10, 5))\n",
    "    plt.subplot(121)\n",
    "    plt.imshow(logo)\n",
    "    plt.title(\"Numpy Logo\")\n",
    "    plt.axis(\"off\")\n",
    "    plt.show()\n",
    "\n",
    "except FileNotFoundError:\n",
    "    print(\"File Not found\")\n"
   ]
  },
  {
   "cell_type": "markdown",
   "id": "b0730022",
   "metadata": {},
   "source": [
    "**Dark Logo of Numpy**"
   ]
  },
  {
   "cell_type": "code",
   "execution_count": null,
   "id": "107dbbdb",
   "metadata": {},
   "outputs": [],
   "source": [
    "dark_logo = 1 - logo\n",
    "plt.figure(figsize=(10, 5))\n",
    "plt.subplot(122)\n",
    "plt.imshow(dark_logo)\n",
    "plt.title(\"Numpy Logo\")\n",
    "plt.axis(\"off\")\n",
    "plt.show()"
   ]
  },
  {
   "cell_type": "code",
   "execution_count": null,
   "id": "0e7ea43f",
   "metadata": {},
   "outputs": [],
   "source": []
  }
 ],
 "metadata": {
  "kernelspec": {
   "display_name": "venv",
   "language": "python",
   "name": "python3"
  },
  "language_info": {
   "codemirror_mode": {
    "name": "ipython",
    "version": 3
   },
   "file_extension": ".py",
   "mimetype": "text/x-python",
   "name": "python",
   "nbconvert_exporter": "python",
   "pygments_lexer": "ipython3",
   "version": "3.13.5"
  }
 },
 "nbformat": 4,
 "nbformat_minor": 5
}
