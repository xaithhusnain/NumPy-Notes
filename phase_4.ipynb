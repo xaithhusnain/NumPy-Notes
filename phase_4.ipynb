{
 "cells": [
  {
   "cell_type": "markdown",
   "id": "7a8224e3",
   "metadata": {},
   "source": [
    "# Vector in Numoy"
   ]
  },
  {
   "cell_type": "code",
   "execution_count": null,
   "id": "829a15c5",
   "metadata": {},
   "outputs": [],
   "source": [
    "import numpy as np"
   ]
  },
  {
   "cell_type": "markdown",
   "id": "02835db4",
   "metadata": {},
   "source": [
    "**Addition of Vectors**"
   ]
  },
  {
   "cell_type": "code",
   "execution_count": null,
   "id": "d145a932",
   "metadata": {},
   "outputs": [],
   "source": [
    "vector1 = np.array([1,2,3,4,5])\n",
    "vector2 = np.array([6,7,8,9,10])\n",
    "\n",
    "print(f\"vector addition {vector1+vector2}\")"
   ]
  },
  {
   "cell_type": "markdown",
   "id": "34417eaa",
   "metadata": {},
   "source": [
    "**Multiplication of Vectors**"
   ]
  },
  {
   "cell_type": "code",
   "execution_count": null,
   "id": "55ab6c02",
   "metadata": {},
   "outputs": [],
   "source": [
    "print(f\"vector multilication {vector1*vector2}\")"
   ]
  },
  {
   "cell_type": "markdown",
   "id": "05b6f120",
   "metadata": {},
   "source": [
    "**Dot poduct**"
   ]
  },
  {
   "cell_type": "code",
   "execution_count": null,
   "id": "12f613ec",
   "metadata": {},
   "outputs": [],
   "source": [
    "print(f\"Dot Product {np.dot(vector1,vector2)}\")"
   ]
  },
  {
   "cell_type": "markdown",
   "id": "09d82165",
   "metadata": {},
   "source": [
    "**Angle btw Vectors**"
   ]
  },
  {
   "cell_type": "code",
   "execution_count": null,
   "id": "5e126687",
   "metadata": {},
   "outputs": [],
   "source": [
    "angle = np.arccos(\n",
    "    np.dot(vector1,vector2) / (np.linalg.norm(vector1) * np.linalg.norm(vector2))\n",
    "    )\n",
    "print(angle)"
   ]
  },
  {
   "cell_type": "markdown",
   "id": "376d5e27",
   "metadata": {},
   "source": [
    "**Calculating Angle** \n",
    "\n",
    "It is not necessary but if want to get in more. Here is a complete guide step by step.\n",
    "\n",
    "It shows also how to find magnitude and dot product"
   ]
  },
  {
   "cell_type": "code",
   "execution_count": null,
   "id": "6ba62a2c",
   "metadata": {},
   "outputs": [],
   "source": [
    "# Formula: cos(θ) = (a · b) / (||a|| * ||b||)\n",
    "# θ = arccos[(a · b) / (||a|| * ||b||)]\n",
    "\n",
    "# Dot product\n",
    "dot_product = np.dot(vector1, vector2)\n",
    "\n",
    "# Magnitudes of vectors\n",
    "magnitude_v1 = np.linalg.norm(vector1)\n",
    "magnitude_v2 = np.linalg.norm(vector2)\n",
    "\n",
    "# Cosine of angle\n",
    "cos_theta = dot_product / (magnitude_v1 * magnitude_v2)\n",
    "\n",
    "# Angle in radians\n",
    "theta_radians = np.arccos(cos_theta)\n",
    "\n",
    "# Convert to degrees\n",
    "theta_degrees = np.degrees(theta_radians)\n",
    "\n",
    "\n",
    "print(f\"Angle (radians): {theta_radians}\")\n",
    "print(f\"Angle (degrees): {theta_degrees}\")\n"
   ]
  },
  {
   "cell_type": "markdown",
   "id": "9e3c0728",
   "metadata": {},
   "source": [
    "**Use of pyhton functions in numpy**\n",
    "\n",
    "np.vectorize(str.upper) creates a function that applies .upper() to every element in the array.\n",
    "\n",
    "It converts all strings in restaurant_types to uppercase."
   ]
  },
  {
   "cell_type": "code",
   "execution_count": null,
   "id": "d39270c6",
   "metadata": {},
   "outputs": [],
   "source": [
    "restuarant_types = np.array(['biryani','chinese','cafe','pizza','spanish'])\n",
    "\n",
    "vectorized_upper = np.vectorize(str.upper)\n",
    "print(f\"vectorized_upper  {vectorized_upper(restuarant_types)}\")"
   ]
  },
  {
   "cell_type": "markdown",
   "id": "039be16f",
   "metadata": {},
   "source": [
    "We can also do same thing with numpy.\n",
    "\n",
    "But in some cases we need to make function."
   ]
  },
  {
   "cell_type": "code",
   "execution_count": null,
   "id": "216211c1",
   "metadata": {},
   "outputs": [],
   "source": [
    "print(f\"vectorized_upper  {np.char.upper(restuarant_types)}\")"
   ]
  }
 ],
 "metadata": {
  "kernelspec": {
   "display_name": "venv",
   "language": "python",
   "name": "python3"
  },
  "language_info": {
   "codemirror_mode": {
    "name": "ipython",
    "version": 3
   },
   "file_extension": ".py",
   "mimetype": "text/x-python",
   "name": "python",
   "nbconvert_exporter": "python",
   "pygments_lexer": "ipython3",
   "version": "3.13.5"
  }
 },
 "nbformat": 4,
 "nbformat_minor": 5
}
