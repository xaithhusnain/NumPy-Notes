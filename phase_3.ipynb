{
 "cells": [
  {
   "cell_type": "markdown",
   "id": "57aa07f8",
   "metadata": {},
   "source": [
    "## Advance Operation with Business Examples"
   ]
  },
  {
   "cell_type": "code",
   "execution_count": null,
   "id": "76064ebf",
   "metadata": {},
   "outputs": [],
   "source": [
    "import numpy as np\n",
    "import matplotlib.pyplot as plt"
   ]
  },
  {
   "cell_type": "markdown",
   "id": "31c07225",
   "metadata": {},
   "source": [
    "**Data of Zomato**"
   ]
  },
  {
   "cell_type": "code",
   "execution_count": null,
   "id": "8aec38e2",
   "metadata": {},
   "outputs": [],
   "source": [
    "# Data Structure [resturant_id, 2021, 2022, 2023, 2024]\n",
    "\n",
    "sales_data = np.array([\n",
    "    [1, 150000, 180000, 220000, 250000],    # Biryani Point\n",
    "    [2, 120000, 140000, 160000, 190000],    # Beijing Bites\n",
    "    [3, 200000, 230000, 260000, 350000],    # Pizza Hub\n",
    "    [4, 180000, 210000, 240000, 270000],    # Burger Point\n",
    "    [5, 150000, 100000, 250000, 300000]     # Chai Point\n",
    "])\n"
   ]
  },
  {
   "cell_type": "markdown",
   "id": "9639c735",
   "metadata": {},
   "source": [
    "**Finding Some Properties**"
   ]
  },
  {
   "cell_type": "code",
   "execution_count": null,
   "id": "5c1e384b",
   "metadata": {},
   "outputs": [],
   "source": [
    "print(\"====== Zomato Sales Analysis ======\")\n",
    "print(f\"Sales Data Shape: {sales_data.shape}\")\n",
    "print(f\"Sales Data of first 3 resturant:\\n{sales_data[0:3]}\")\n",
    "print(f\"Sales Data of first 3 resturant:\\n{sales_data[:, 1:]}\") # skip first coloum"
   ]
  },
  {
   "cell_type": "markdown",
   "id": "cfa81177",
   "metadata": {},
   "source": [
    "**Total Sale Per Year**"
   ]
  },
  {
   "cell_type": "code",
   "execution_count": null,
   "id": "8763e164",
   "metadata": {},
   "outputs": [],
   "source": [
    "print(np.sum(sales_data,axis=0))\n",
    "yearly_total = np.sum(sales_data[:, 1:] ,axis=0)\n",
    "print(yearly_total)\n"
   ]
  },
  {
   "cell_type": "markdown",
   "id": "65e27962",
   "metadata": {},
   "source": [
    "**Total of 4 years of Every Seller**"
   ]
  },
  {
   "cell_type": "code",
   "execution_count": null,
   "id": "325709c0",
   "metadata": {},
   "outputs": [],
   "source": [
    "yearly_total = np.sum(sales_data[:, 1:] ,axis=1)\n",
    "print(yearly_total)"
   ]
  },
  {
   "cell_type": "markdown",
   "id": "da34d73e",
   "metadata": {},
   "source": [
    "**Minimum Sale of Every Seller**"
   ]
  },
  {
   "cell_type": "code",
   "execution_count": null,
   "id": "765fcdd2",
   "metadata": {},
   "outputs": [],
   "source": [
    "min_sale = np.min(sales_data[:, 1:] ,axis=1)\n",
    "print(min_sale)"
   ]
  },
  {
   "cell_type": "markdown",
   "id": "724c8f71",
   "metadata": {},
   "source": [
    "**Minimum Sale in Every Year**"
   ]
  },
  {
   "cell_type": "code",
   "execution_count": null,
   "id": "4710376f",
   "metadata": {},
   "outputs": [],
   "source": [
    "min_sale = np.min(sales_data[:, 1:] ,axis=0)\n",
    "print(min_sale)"
   ]
  },
  {
   "cell_type": "markdown",
   "id": "26bfec57",
   "metadata": {},
   "source": [
    "**Maximum Sale Per Year**"
   ]
  },
  {
   "cell_type": "code",
   "execution_count": null,
   "id": "6e55122b",
   "metadata": {},
   "outputs": [],
   "source": [
    "max_sale = np.max(sales_data[:, 1:] ,axis=0)\n",
    "print(max_sale)"
   ]
  },
  {
   "cell_type": "markdown",
   "id": "c5661742",
   "metadata": {},
   "source": [
    "**Average Sale Per Restaurant**"
   ]
  },
  {
   "cell_type": "code",
   "execution_count": null,
   "id": "8e77fdb2",
   "metadata": {},
   "outputs": [],
   "source": [
    "avg_sale = np.average(sales_data[:, 1:] ,axis=1)\n",
    "print(avg_sale)"
   ]
  },
  {
   "cell_type": "markdown",
   "id": "468b2271",
   "metadata": {},
   "source": [
    "**Cumulative Sale of Every Restaurant**"
   ]
  },
  {
   "cell_type": "code",
   "execution_count": null,
   "id": "cba990ea",
   "metadata": {},
   "outputs": [],
   "source": [
    "cum_sum = np.cumsum(sales_data[:, 1:] ,axis=1)\n",
    "print(cum_sum) # gives year by year\n",
    "print(cum_sum[:,3:]) # gives final year"
   ]
  },
  {
   "cell_type": "markdown",
   "id": "12c780fa",
   "metadata": {},
   "source": [
    "**Graph of Cumulative Sales**"
   ]
  },
  {
   "cell_type": "code",
   "execution_count": null,
   "id": "e201d2c7",
   "metadata": {},
   "outputs": [],
   "source": [
    "plt.Figure(figsize=(8,6))\n",
    "plt.plot(np.average(cum_sum,axis=0))\n",
    "plt.title(\"Average Cumulative Sale Across All Restaurants\")\n",
    "plt.xlabel(\"Years\")\n",
    "plt.ylabel(\"Sales\")\n",
    "plt.grid(True)\n",
    "plt.show()"
   ]
  },
  {
   "cell_type": "markdown",
   "id": "471cc940",
   "metadata": {},
   "source": [
    "(Optional) Visualization with matplotlib\n",
    "\n",
    "This graph is added only to make the notes look better.\n",
    "\n",
    "If you know matplotlib, enjoy the plot! \n",
    "\n",
    "#If not, you can safely ignore this part — it's not needed for NumPy learning."
   ]
  },
  {
   "cell_type": "markdown",
   "id": "b41d2df8",
   "metadata": {},
   "source": [
    "**Monthly Avg**"
   ]
  },
  {
   "cell_type": "code",
   "execution_count": null,
   "id": "b43f5301",
   "metadata": {},
   "outputs": [],
   "source": [
    "monthly_avg = (sales_data[:, 1:] /12)\n",
    "print(monthly_avg.round(1))\n"
   ]
  }
 ],
 "metadata": {
  "kernelspec": {
   "display_name": "venv",
   "language": "python",
   "name": "python3"
  },
  "language_info": {
   "codemirror_mode": {
    "name": "ipython",
    "version": 3
   },
   "file_extension": ".py",
   "mimetype": "text/x-python",
   "name": "python",
   "nbconvert_exporter": "python",
   "pygments_lexer": "ipython3",
   "version": "3.13.5"
  }
 },
 "nbformat": 4,
 "nbformat_minor": 5
}
